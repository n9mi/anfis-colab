{
  "nbformat": 4,
  "nbformat_minor": 0,
  "metadata": {
    "colab": {
      "provenance": [],
      "toc_visible": true
    },
    "kernelspec": {
      "name": "python3",
      "display_name": "Python 3"
    },
    "language_info": {
      "name": "python"
    }
  },
  "cells": [
    {
      "cell_type": "markdown",
      "source": [
        "### enter config"
      ],
      "metadata": {
        "id": "wnhhC6a7DgoN"
      }
    },
    {
      "cell_type": "code",
      "source": [
        "TRAINING_SET_PATH = \"/content/drive/MyDrive/coba/trainingSet.txt\""
      ],
      "metadata": {
        "id": "3MX-RJ4aDG6N"
      },
      "execution_count": 1,
      "outputs": []
    },
    {
      "cell_type": "markdown",
      "source": [
        "### import packages"
      ],
      "metadata": {
        "id": "V-TCp28mA5eE"
      }
    },
    {
      "cell_type": "code",
      "source": [
        "!pip install scikit-fuzzy\n",
        "from skfuzzy import gaussmf, gbellmf, sigmf\n",
        "import numpy as np\n",
        "import itertools\n",
        "import numpy as np\n",
        "import copy\n",
        "import matplotlib.pyplot as plt"
      ],
      "metadata": {
        "colab": {
          "base_uri": "https://localhost:8080/"
        },
        "id": "88NymbFXAuci",
        "outputId": "0b47ec48-aedb-479a-b643-44f3fba72004"
      },
      "execution_count": 2,
      "outputs": [
        {
          "output_type": "stream",
          "name": "stdout",
          "text": [
            "Requirement already satisfied: scikit-fuzzy in /usr/local/lib/python3.10/dist-packages (0.5.0)\n"
          ]
        }
      ]
    },
    {
      "cell_type": "markdown",
      "source": [
        "### membershipfunction"
      ],
      "metadata": {
        "id": "JDtHk0Yz_vi5"
      }
    },
    {
      "cell_type": "code",
      "execution_count": 3,
      "metadata": {
        "id": "TxamxM_f93S6"
      },
      "outputs": [],
      "source": [
        "class MemFuncs:\n",
        "    'Common base class for all employees'\n",
        "    funcDict = {'gaussmf': gaussmf, 'gbellmf': gbellmf, 'sigmf': sigmf}\n",
        "\n",
        "\n",
        "    def __init__(self, MFList):\n",
        "        self.MFList = MFList\n",
        "\n",
        "    def evaluateMF(self, rowInput):\n",
        "        if len(rowInput) != len(self.MFList):\n",
        "            print(\"Number of variables does not match number of rule sets\")\n",
        "\n",
        "        return [[self.funcDict[self.MFList[i][k][0]](rowInput[i],**self.MFList[i][k][1]) for k in range(len(self.MFList[i]))] for i in range(len(rowInput))]"
      ]
    },
    {
      "cell_type": "markdown",
      "source": [
        "### mfDerivs"
      ],
      "metadata": {
        "id": "BBGGccPDAPDK"
      }
    },
    {
      "cell_type": "code",
      "source": [
        "def partial_dMF(x, mf_definition, partial_parameter):\n",
        "    \"\"\"Calculates the partial derivative of a membership function at a point x.\n",
        "\n",
        "\n",
        "\n",
        "    Parameters\n",
        "    ------\n",
        "\n",
        "\n",
        "    Returns\n",
        "    ------\n",
        "\n",
        "    \"\"\"\n",
        "    mf_name = mf_definition[0]\n",
        "\n",
        "    if mf_name == 'gaussmf':\n",
        "\n",
        "        sigma = mf_definition[1]['sigma']\n",
        "        mean = mf_definition[1]['mean']\n",
        "\n",
        "        if partial_parameter == 'sigma':\n",
        "            result = (2./sigma**3) * np.exp(-(((x-mean)**2)/(sigma)**2))*(x-mean)**2\n",
        "        elif partial_parameter == 'mean':\n",
        "            result = (2./sigma**2) * np.exp(-(((x-mean)**2)/(sigma)**2))*(x-mean)\n",
        "\n",
        "    elif mf_name == 'gbellmf':\n",
        "\n",
        "        a = mf_definition[1]['a']\n",
        "        b = mf_definition[1]['b']\n",
        "        c = mf_definition[1]['c']\n",
        "\n",
        "        if partial_parameter == 'a':\n",
        "            result = (2. * b * np.power((c-x),2) * np.power(np.absolute((c-x)/a), ((2 * b) - 2))) / \\\n",
        "                (np.power(a, 3) * np.power((np.power(np.absolute((c-x)/a),(2*b)) + 1), 2))\n",
        "        elif partial_parameter == 'b':\n",
        "            result = -1 * (2 * np.power(np.absolute((c-x)/a), (2 * b)) * np.log(np.absolute((c-x)/a))) / \\\n",
        "                (np.power((np.power(np.absolute((c-x)/a), (2 * b)) + 1), 2))\n",
        "        elif partial_parameter == 'c':\n",
        "            result = (2. * b * (c-x) * np.power(np.absolute((c-x)/a), ((2 * b) - 2))) / \\\n",
        "                (np.power(a, 2) * np.power((np.power(np.absolute((c-x)/a),(2*b)) + 1), 2))\n",
        "\n",
        "    elif mf_name == 'sigmf':\n",
        "\n",
        "        b = mf_definition[1]['b']\n",
        "        c = mf_definition[1]['c']\n",
        "\n",
        "        if partial_parameter == 'b':\n",
        "            result = -1 * (c * np.exp(c * (b + x))) / \\\n",
        "                np.power((np.exp(b*c) + np.exp(c*x)), 2)\n",
        "        elif partial_parameter == 'c':\n",
        "            result = ((x - b) * np.exp(c * (x - b))) / \\\n",
        "                np.power((np.exp(c * (x - c))) + 1, 2)\n",
        "\n",
        "\n",
        "    return result"
      ],
      "metadata": {
        "id": "zr6pH_q4AHIL"
      },
      "execution_count": 4,
      "outputs": []
    },
    {
      "cell_type": "markdown",
      "source": [
        "### anfis"
      ],
      "metadata": {
        "id": "GIqWULqmAdxg"
      }
    },
    {
      "cell_type": "code",
      "source": [
        "class ANFIS:\n",
        "    \"\"\"Class to implement an Adaptive Network Fuzzy Inference System: ANFIS\"\n",
        "\n",
        "    Attributes:\n",
        "        X\n",
        "        Y\n",
        "        XLen\n",
        "        memClass\n",
        "        memFuncs\n",
        "        memFuncsByVariable\n",
        "        rules\n",
        "        consequents\n",
        "        errors\n",
        "        memFuncsHomo\n",
        "        trainingType\n",
        "\n",
        "\n",
        "    \"\"\"\n",
        "\n",
        "    def __init__(self, X, Y, memFunction):\n",
        "        self.X = np.array(copy.copy(X))\n",
        "        self.Y = np.array(copy.copy(Y))\n",
        "        self.XLen = len(self.X)\n",
        "        self.memClass = copy.deepcopy(memFunction)\n",
        "        self.memFuncs = self.memClass.MFList\n",
        "        self.memFuncsByVariable = [[x for x in range(len(self.memFuncs[z]))] for z in range(len(self.memFuncs))]\n",
        "        self.rules = np.array(list(itertools.product(*self.memFuncsByVariable)))\n",
        "        self.consequents = np.empty(self.Y.ndim * len(self.rules) * (self.X.shape[1] + 1))\n",
        "        self.consequents.fill(0)\n",
        "        self.errors = np.empty(0)\n",
        "        self.memFuncsHomo = all(len(i)==len(self.memFuncsByVariable[0]) for i in self.memFuncsByVariable)\n",
        "        self.trainingType = 'Not trained yet'\n",
        "\n",
        "    def LSE(self, A, B, initialGamma = 1000.):\n",
        "        coeffMat = A\n",
        "        rhsMat = B\n",
        "        S = np.eye(coeffMat.shape[1])*initialGamma\n",
        "        x = np.zeros((coeffMat.shape[1],1)) # need to correct for multi-dim B\n",
        "        for i in range(len(coeffMat[:,0])):\n",
        "            a = coeffMat[i,:]\n",
        "            b = np.array(rhsMat[i])\n",
        "            S = S - (np.array(np.dot(np.dot(np.dot(S,np.matrix(a).transpose()),np.matrix(a)),S)))/(1+(np.dot(np.dot(S,a),a)))\n",
        "            x = x + (np.dot(S,np.dot(np.matrix(a).transpose(),(np.matrix(b)-np.dot(np.matrix(a),x)))))\n",
        "        return x\n",
        "\n",
        "    def trainHybridJangOffLine(self, epochs=5, tolerance=1e-5, initialGamma=1000, k=0.01):\n",
        "\n",
        "        self.trainingType = 'trainHybridJangOffLine'\n",
        "        convergence = False\n",
        "        epoch = 1\n",
        "\n",
        "        while (epoch < epochs) and (convergence is not True):\n",
        "\n",
        "            #layer four: forward pass\n",
        "            [layerFour, wSum, w] = forwardHalfPass(self, self.X)\n",
        "\n",
        "            #layer five: least squares estimate\n",
        "            layerFive = np.array(self.LSE(layerFour,self.Y,initialGamma))\n",
        "            self.consequents = layerFive\n",
        "            layerFive = np.dot(layerFour,layerFive)\n",
        "\n",
        "            #error\n",
        "            error = np.sum((self.Y-layerFive.T)**2)\n",
        "            print('current error: '+ str(error))\n",
        "            average_error = np.average(np.absolute(self.Y-layerFive.T))\n",
        "            self.errors = np.append(self.errors,error)\n",
        "\n",
        "            if len(self.errors) != 0:\n",
        "                if self.errors[len(self.errors)-1] < tolerance:\n",
        "                    convergence = True\n",
        "\n",
        "            # back propagation\n",
        "            if convergence is not True:\n",
        "                cols = range(len(self.X[0,:]))\n",
        "                dE_dAlpha = list(backprop(self, colX, cols, wSum, w, layerFive) for colX in range(self.X.shape[1]))\n",
        "\n",
        "\n",
        "            if len(self.errors) >= 4:\n",
        "                if (self.errors[-4] > self.errors[-3] > self.errors[-2] > self.errors[-1]):\n",
        "                    k = k * 1.1\n",
        "\n",
        "            if len(self.errors) >= 5:\n",
        "                if (self.errors[-1] < self.errors[-2]) and (self.errors[-3] < self.errors[-2]) and (self.errors[-3] < self.errors[-4]) and (self.errors[-5] > self.errors[-4]):\n",
        "                    k = k * 0.9\n",
        "\n",
        "            ## handling of variables with a different number of MFs\n",
        "            t = []\n",
        "            for x in range(len(dE_dAlpha)):\n",
        "                for y in range(len(dE_dAlpha[x])):\n",
        "                    for z in range(len(dE_dAlpha[x][y])):\n",
        "                        t.append(dE_dAlpha[x][y][z])\n",
        "\n",
        "            eta = k / np.abs(np.sum(t))\n",
        "\n",
        "            if(np.isinf(eta)):\n",
        "                eta = k\n",
        "\n",
        "            ## handling of variables with a different number of MFs\n",
        "            dAlpha = copy.deepcopy(dE_dAlpha)\n",
        "            if not(self.memFuncsHomo):\n",
        "                for x in range(len(dE_dAlpha)):\n",
        "                    for y in range(len(dE_dAlpha[x])):\n",
        "                        for z in range(len(dE_dAlpha[x][y])):\n",
        "                            dAlpha[x][y][z] = -eta * dE_dAlpha[x][y][z]\n",
        "            else:\n",
        "                dAlpha = -eta * np.array(dE_dAlpha)\n",
        "\n",
        "\n",
        "            for varsWithMemFuncs in range(len(self.memFuncs)):\n",
        "                for MFs in range(len(self.memFuncsByVariable[varsWithMemFuncs])):\n",
        "                    paramList = sorted(self.memFuncs[varsWithMemFuncs][MFs][1])\n",
        "                    for param in range(len(paramList)):\n",
        "                        self.memFuncs[varsWithMemFuncs][MFs][1][paramList[param]] = self.memFuncs[varsWithMemFuncs][MFs][1][paramList[param]] + dAlpha[varsWithMemFuncs][MFs][param]\n",
        "            epoch = epoch + 1\n",
        "\n",
        "\n",
        "        self.fittedValues = predict(self,self.X)\n",
        "        self.residuals = self.Y - self.fittedValues[:,0]\n",
        "\n",
        "        return self.fittedValues\n",
        "\n",
        "\n",
        "    def plotErrors(self):\n",
        "        if self.trainingType == 'Not trained yet':\n",
        "            print(self.trainingType)\n",
        "        else:\n",
        "            plt.plot(range(len(self.errors)),self.errors,'ro', label='errors')\n",
        "            plt.ylabel('error')\n",
        "            plt.xlabel('epoch')\n",
        "            plt.show()\n",
        "\n",
        "    def plotMF(self, x, inputVar):\n",
        "        for mf in range(len(self.memFuncs[inputVar])):\n",
        "            if self.memFuncs[inputVar][mf][0] == 'gaussmf':\n",
        "                y = gaussmf(x,**self.memClass.MFList[inputVar][mf][1])\n",
        "            elif self.memFuncs[inputVar][mf][0] == 'gbellmf':\n",
        "                y = gbellmf(x,**self.memClass.MFList[inputVar][mf][1])\n",
        "            elif self.memFuncs[inputVar][mf][0] == 'sigmf':\n",
        "                y = sigmf(x,**self.memClass.MFList[inputVar][mf][1])\n",
        "\n",
        "            plt.plot(x,y,'r')\n",
        "\n",
        "        plt.show()\n",
        "\n",
        "    def plotResults(self):\n",
        "        if self.trainingType == 'Not trained yet':\n",
        "            print(self.trainingType)\n",
        "        else:\n",
        "            plt.plot(range(len(self.fittedValues)),self.fittedValues,'r', label='trained')\n",
        "            plt.plot(range(len(self.Y)),self.Y,'b', label='original')\n",
        "            plt.legend(loc='upper left')\n",
        "            plt.show()\n",
        "\n",
        "\n",
        "\n",
        "def forwardHalfPass(ANFISObj, Xs):\n",
        "    layerFour = np.empty(0,)\n",
        "    wSum = []\n",
        "\n",
        "    for pattern in range(len(Xs[:,0])):\n",
        "        #layer one\n",
        "        layerOne = ANFISObj.memClass.evaluateMF(Xs[pattern,:])\n",
        "\n",
        "        #layer two\n",
        "        miAlloc = [[layerOne[x][ANFISObj.rules[row][x]] for x in range(len(ANFISObj.rules[0]))] for row in range(len(ANFISObj.rules))]\n",
        "        layerTwo = np.array([np.product(x) for x in miAlloc]).T\n",
        "        if pattern == 0:\n",
        "            w = layerTwo\n",
        "        else:\n",
        "            w = np.vstack((w,layerTwo))\n",
        "\n",
        "        #layer three\n",
        "        wSum.append(np.sum(layerTwo))\n",
        "        if pattern == 0:\n",
        "            wNormalized = layerTwo/wSum[pattern]\n",
        "        else:\n",
        "            wNormalized = np.vstack((wNormalized,layerTwo/wSum[pattern]))\n",
        "\n",
        "        #prep for layer four (bit of a hack)\n",
        "        layerThree = layerTwo/wSum[pattern]\n",
        "        rowHolder = np.concatenate([x*np.append(Xs[pattern,:],1) for x in layerThree])\n",
        "        layerFour = np.append(layerFour,rowHolder)\n",
        "\n",
        "    w = w.T\n",
        "    wNormalized = wNormalized.T\n",
        "\n",
        "    layerFour = np.array(np.array_split(layerFour,pattern + 1))\n",
        "\n",
        "    return layerFour, wSum, w\n",
        "\n",
        "\n",
        "def backprop(ANFISObj, columnX, columns, theWSum, theW, theLayerFive):\n",
        "\n",
        "    paramGrp = [0]* len(ANFISObj.memFuncs[columnX])\n",
        "    for MF in range(len(ANFISObj.memFuncs[columnX])):\n",
        "\n",
        "        parameters = np.empty(len(ANFISObj.memFuncs[columnX][MF][1]))\n",
        "        timesThru = 0\n",
        "        for alpha in sorted(ANFISObj.memFuncs[columnX][MF][1].keys()):\n",
        "\n",
        "            bucket3 = np.empty(len(ANFISObj.X))\n",
        "            for rowX in range(len(ANFISObj.X)):\n",
        "                varToTest = ANFISObj.X[rowX,columnX]\n",
        "                tmpRow = np.empty(len(ANFISObj.memFuncs))\n",
        "                tmpRow.fill(varToTest)\n",
        "\n",
        "                bucket2 = np.empty(ANFISObj.Y.ndim)\n",
        "                for colY in range(ANFISObj.Y.ndim):\n",
        "\n",
        "                    rulesWithAlpha = np.array(np.where(ANFISObj.rules[:,columnX]==MF))[0]\n",
        "                    adjCols = np.delete(columns,columnX)\n",
        "\n",
        "                    senSit = partial_dMF(ANFISObj.X[rowX,columnX],ANFISObj.memFuncs[columnX][MF],alpha)\n",
        "                    # produces d_ruleOutput/d_parameterWithinMF\n",
        "                    dW_dAplha = senSit * np.array([np.prod([ANFISObj.memClass.evaluateMF(tmpRow)[c][ANFISObj.rules[r][c]] for c in adjCols]) for r in rulesWithAlpha])\n",
        "\n",
        "                    bucket1 = np.empty(len(ANFISObj.rules[:,0]))\n",
        "                    for consequent in range(len(ANFISObj.rules[:,0])):\n",
        "                        fConsequent = np.dot(np.append(ANFISObj.X[rowX,:],1.),ANFISObj.consequents[((ANFISObj.X.shape[1] + 1) * consequent):(((ANFISObj.X.shape[1] + 1) * consequent) + (ANFISObj.X.shape[1] + 1)),colY])\n",
        "                        acum = 0\n",
        "                        if consequent in rulesWithAlpha:\n",
        "                            acum = dW_dAplha[np.where(rulesWithAlpha==consequent)] * theWSum[rowX]\n",
        "\n",
        "                        acum = acum - theW[consequent,rowX] * np.sum(dW_dAplha)\n",
        "                        acum = acum / theWSum[rowX]**2\n",
        "                        bucket1[consequent] = fConsequent * acum\n",
        "\n",
        "                    sum1 = np.sum(bucket1)\n",
        "\n",
        "                    if ANFISObj.Y.ndim == 1:\n",
        "                        bucket2[colY] = sum1 * (ANFISObj.Y[rowX]-theLayerFive[rowX,colY])*(-2)\n",
        "                    else:\n",
        "                        bucket2[colY] = sum1 * (ANFISObj.Y[rowX,colY]-theLayerFive[rowX,colY])*(-2)\n",
        "\n",
        "                sum2 = np.sum(bucket2)\n",
        "                bucket3[rowX] = sum2\n",
        "\n",
        "            sum3 = np.sum(bucket3)\n",
        "            parameters[timesThru] = sum3\n",
        "            timesThru = timesThru + 1\n",
        "\n",
        "        paramGrp[MF] = parameters\n",
        "\n",
        "    return paramGrp\n",
        "\n",
        "\n",
        "def predict(ANFISObj, varsToTest):\n",
        "\n",
        "    [layerFour, wSum, w] = forwardHalfPass(ANFISObj, varsToTest)\n",
        "\n",
        "    #layer five\n",
        "    layerFive = np.dot(layerFour,ANFISObj.consequents)\n",
        "\n",
        "    return layerFive"
      ],
      "metadata": {
        "id": "y-IF5m7rAeDh"
      },
      "execution_count": 5,
      "outputs": []
    },
    {
      "cell_type": "markdown",
      "source": [
        "### main code here"
      ],
      "metadata": {
        "id": "FH8uosO3Bk6W"
      }
    },
    {
      "cell_type": "code",
      "source": [
        "from google.colab import drive\n",
        "\n",
        "drive.mount('/content/drive')"
      ],
      "metadata": {
        "colab": {
          "base_uri": "https://localhost:8080/"
        },
        "id": "kSsNMU2OBji3",
        "outputId": "9594cd2a-57ac-438b-c1c6-90e3a0972e2f"
      },
      "execution_count": 6,
      "outputs": [
        {
          "output_type": "stream",
          "name": "stdout",
          "text": [
            "Drive already mounted at /content/drive; to attempt to forcibly remount, call drive.mount(\"/content/drive\", force_remount=True).\n"
          ]
        }
      ]
    },
    {
      "cell_type": "code",
      "source": [
        "ts = np.loadtxt(TRAINING_SET_PATH, usecols=[1,2,3])#numpy.loadtxt('c:\\\\Python_fiddling\\\\myProject\\\\MF\\\\trainingSet.txt',usecols=[1,2,3])\n",
        "X = ts[:,0:2]\n",
        "Y = ts[:,2]\n",
        "\n",
        "mf = [[['gaussmf',{'mean':0.,'sigma':1.}],['gaussmf',{'mean':-1.,'sigma':2.}],['gaussmf',{'mean':-4.,'sigma':10.}],['gaussmf',{'mean':-7.,'sigma':7.}]],\n",
        "            [['gaussmf',{'mean':1.,'sigma':2.}],['gaussmf',{'mean':2.,'sigma':3.}],['gaussmf',{'mean':-2.,'sigma':10.}],['gaussmf',{'mean':-10.5,'sigma':5.}]]]\n",
        "\n",
        "mfc = MemFuncs(mf)\n",
        "anf = ANFIS(X, Y, mfc)\n",
        "anf.trainHybridJangOffLine(epochs=20)\n",
        "print(round(anf.consequents[-1][0],6))\n",
        "print(round(anf.consequents[-2][0],6))\n",
        "print(round(anf.fittedValues[9][0],6))\n",
        "if round(anf.consequents[-1][0],6) == -5.275538 and round(anf.consequents[-2][0],6) == -1.990703 and round(anf.fittedValues[9][0],6) == 0.002249:\n",
        "\tprint('test is good')\n",
        "\n",
        "print(\"Plotting errors\")\n",
        "anf.plotErrors()\n",
        "print(\"Plotting results\")\n",
        "anf.plotResults()"
      ],
      "metadata": {
        "colab": {
          "base_uri": "https://localhost:8080/",
          "height": 1000
        },
        "id": "N96PcG4nB2ne",
        "outputId": "36a5f6c5-5f93-4536-f57f-d164f302398f"
      },
      "execution_count": 7,
      "outputs": [
        {
          "output_type": "stream",
          "name": "stdout",
          "text": [
            "current error: 0.32197133130238204\n"
          ]
        },
        {
          "output_type": "stream",
          "name": "stderr",
          "text": [
            "<ipython-input-5-e9bf422e2b2b>:166: DeprecationWarning: `product` is deprecated as of NumPy 1.25.0, and will be removed in NumPy 2.0. Please use `prod` instead.\n",
            "  layerTwo = np.array([np.product(x) for x in miAlloc]).T\n",
            "<ipython-input-5-e9bf422e2b2b>:226: DeprecationWarning: Conversion of an array with ndim > 0 to a scalar is deprecated, and will error in future. Ensure you extract a single element from your array before performing this operation. (Deprecated NumPy 1.25.)\n",
            "  bucket1[consequent] = fConsequent * acum\n"
          ]
        },
        {
          "output_type": "stream",
          "name": "stdout",
          "text": [
            "current error: 0.32064969677854194\n",
            "current error: 0.31935983596568546\n",
            "current error: 0.3180964819660658\n",
            "current error: 0.3167312506083373\n",
            "current error: 0.31525469705445675\n",
            "current error: 0.3136564810257317\n",
            "current error: 0.3119254351798252\n",
            "current error: 0.3100497693043417\n",
            "current error: 0.3080174986459076\n",
            "current error: 0.3058172226724817\n",
            "current error: 0.30343942051198586\n",
            "current error: 0.30087845047907824\n",
            "current error: 0.29813538447488885\n",
            "current error: 0.295221498671464\n",
            "current error: 0.2921610523477828\n",
            "current error: 0.2889868451570033\n",
            "current error: 0.2856912569158938\n",
            "current error: 0.2818464797359256\n",
            "0.144028\n",
            "0.017168\n",
            "-0.001662\n",
            "Plotting errors\n"
          ]
        },
        {
          "output_type": "display_data",
          "data": {
            "text/plain": [
              "<Figure size 640x480 with 1 Axes>"
            ],
            "image/png": "[encoded data removed]"
          },
          "metadata": {}
        },
        {
          "output_type": "stream",
          "name": "stdout",
          "text": [
            "Plotting results\n"
          ]
        },
        {
          "output_type": "display_data",
          "data": {
            "text/plain": [
              "<Figure size 640x480 with 1 Axes>"
            ],
            "image/png": "[encoded data removed]"
          },
          "metadata": {}
        }
      ]
    }
  ]
}